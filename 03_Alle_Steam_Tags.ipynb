{
 "cells": [
  {
   "cell_type": "markdown",
   "metadata": {},
   "source": [
    "# Welche Tags werden auf Steam verwendet?\n",
    "\n",
    "Alle Tags die von Steam verwendet werden, werden hier gezählt und nach ihrer Häufigkeit sortiert. Nur ein einzelner Tag wird für diese Analyse verwendet."
   ]
  },
  {
   "cell_type": "code",
   "execution_count": 1,
   "metadata": {
    "collapsed": true
   },
   "outputs": [],
   "source": [
    "# Import\n",
    "import os\n",
    "import pandas as pd\n",
    "import matplotlib.pyplot as plt"
   ]
  },
  {
   "cell_type": "code",
   "execution_count": 2,
   "metadata": {
    "collapsed": true
   },
   "outputs": [],
   "source": [
    "# Path to the data\n",
    "data_path = '/home/jm/Desktop/Gamestar_Data/API/'\n",
    "\n",
    "# Path for the first datafile\n",
    "data_file= sorted([os.path.join(data_path, file) for file in os.listdir(data_path)])[0]"
   ]
  },
  {
   "cell_type": "code",
   "execution_count": 3,
   "metadata": {},
   "outputs": [
    {
     "data": {
      "text/html": [
       "<div>\n",
       "<style>\n",
       "    .dataframe thead tr:only-child th {\n",
       "        text-align: right;\n",
       "    }\n",
       "\n",
       "    .dataframe thead th {\n",
       "        text-align: left;\n",
       "    }\n",
       "\n",
       "    .dataframe tbody tr th {\n",
       "        vertical-align: top;\n",
       "    }\n",
       "</style>\n",
       "<table border=\"1\" class=\"dataframe\">\n",
       "  <thead>\n",
       "    <tr style=\"text-align: right;\">\n",
       "      <th></th>\n",
       "      <th>appid</th>\n",
       "      <th>average_2weeks</th>\n",
       "      <th>average_forever</th>\n",
       "      <th>ccu</th>\n",
       "      <th>developer</th>\n",
       "      <th>median_2weeks</th>\n",
       "      <th>median_forever</th>\n",
       "      <th>name</th>\n",
       "      <th>owners</th>\n",
       "      <th>owners_variance</th>\n",
       "      <th>players_2weeks</th>\n",
       "      <th>players_2weeks_variance</th>\n",
       "      <th>players_forever</th>\n",
       "      <th>players_forever_variance</th>\n",
       "      <th>price</th>\n",
       "      <th>publisher</th>\n",
       "      <th>score_rank</th>\n",
       "      <th>tags</th>\n",
       "    </tr>\n",
       "  </thead>\n",
       "  <tbody>\n",
       "    <tr>\n",
       "      <th>10</th>\n",
       "      <td>10</td>\n",
       "      <td>736</td>\n",
       "      <td>11053</td>\n",
       "      <td>19696</td>\n",
       "      <td>Valve</td>\n",
       "      <td>88</td>\n",
       "      <td>414</td>\n",
       "      <td>Counter-Strike</td>\n",
       "      <td>14170391</td>\n",
       "      <td>110949</td>\n",
       "      <td>344712</td>\n",
       "      <td>17560</td>\n",
       "      <td>9969026</td>\n",
       "      <td>93478</td>\n",
       "      <td>999</td>\n",
       "      <td>Valve</td>\n",
       "      <td>97</td>\n",
       "      <td>{'Action': 2560, 'FPS': 1931, 'Survival': 169,...</td>\n",
       "    </tr>\n",
       "    <tr>\n",
       "      <th>100</th>\n",
       "      <td>100</td>\n",
       "      <td>573</td>\n",
       "      <td>276</td>\n",
       "      <td>62</td>\n",
       "      <td>Valve</td>\n",
       "      <td>24</td>\n",
       "      <td>33</td>\n",
       "      <td>Counter-Strike: Condition Zero</td>\n",
       "      <td>11496710</td>\n",
       "      <td>100222</td>\n",
       "      <td>12637</td>\n",
       "      <td>3363</td>\n",
       "      <td>2059846</td>\n",
       "      <td>42848</td>\n",
       "      <td>999</td>\n",
       "      <td>Valve</td>\n",
       "      <td>71</td>\n",
       "      <td>{'Action': 354, 'FPS': 274, 'Adventure': 36, '...</td>\n",
       "    </tr>\n",
       "  </tbody>\n",
       "</table>\n",
       "</div>"
      ],
      "text/plain": [
       "    appid average_2weeks average_forever    ccu developer median_2weeks  \\\n",
       "10     10            736           11053  19696     Valve            88   \n",
       "100   100            573             276     62     Valve            24   \n",
       "\n",
       "    median_forever                            name    owners owners_variance  \\\n",
       "10             414                  Counter-Strike  14170391          110949   \n",
       "100             33  Counter-Strike: Condition Zero  11496710          100222   \n",
       "\n",
       "    players_2weeks players_2weeks_variance players_forever  \\\n",
       "10          344712                   17560         9969026   \n",
       "100          12637                    3363         2059846   \n",
       "\n",
       "    players_forever_variance price publisher score_rank  \\\n",
       "10                     93478   999     Valve         97   \n",
       "100                    42848   999     Valve         71   \n",
       "\n",
       "                                                  tags  \n",
       "10   {'Action': 2560, 'FPS': 1931, 'Survival': 169,...  \n",
       "100  {'Action': 354, 'FPS': 274, 'Adventure': 36, '...  "
      ]
     },
     "execution_count": 3,
     "metadata": {},
     "output_type": "execute_result"
    }
   ],
   "source": [
    "df_data = pd.read_json(data_file).T\n",
    "df_data.head(2)"
   ]
  },
  {
   "cell_type": "code",
   "execution_count": 4,
   "metadata": {
    "collapsed": true
   },
   "outputs": [],
   "source": [
    "all_tags = {}\n",
    "for tags in df_data['tags'].values:\n",
    "    if tags:\n",
    "        for key, value in tags.items():\n",
    "            if key in all_tags.keys():\n",
    "                all_tags[key] += value\n",
    "            else:\n",
    "                all_tags[key] = value"
   ]
  },
  {
   "cell_type": "code",
   "execution_count": 5,
   "metadata": {},
   "outputs": [
    {
     "data": {
      "text/html": [
       "<div>\n",
       "<style>\n",
       "    .dataframe thead tr:only-child th {\n",
       "        text-align: right;\n",
       "    }\n",
       "\n",
       "    .dataframe thead th {\n",
       "        text-align: left;\n",
       "    }\n",
       "\n",
       "    .dataframe tbody tr th {\n",
       "        vertical-align: top;\n",
       "    }\n",
       "</style>\n",
       "<table border=\"1\" class=\"dataframe\">\n",
       "  <thead>\n",
       "    <tr style=\"text-align: right;\">\n",
       "      <th></th>\n",
       "      <th>Prozentanteil</th>\n",
       "    </tr>\n",
       "  </thead>\n",
       "  <tbody>\n",
       "    <tr>\n",
       "      <th>Action</th>\n",
       "      <td>6.380947</td>\n",
       "    </tr>\n",
       "    <tr>\n",
       "      <th>Indie</th>\n",
       "      <td>4.535468</td>\n",
       "    </tr>\n",
       "    <tr>\n",
       "      <th>Adventure</th>\n",
       "      <td>4.306819</td>\n",
       "    </tr>\n",
       "    <tr>\n",
       "      <th>Multiplayer</th>\n",
       "      <td>3.930681</td>\n",
       "    </tr>\n",
       "    <tr>\n",
       "      <th>Singleplayer</th>\n",
       "      <td>3.396771</td>\n",
       "    </tr>\n",
       "  </tbody>\n",
       "</table>\n",
       "</div>"
      ],
      "text/plain": [
       "              Prozentanteil\n",
       "Action             6.380947\n",
       "Indie              4.535468\n",
       "Adventure          4.306819\n",
       "Multiplayer        3.930681\n",
       "Singleplayer       3.396771"
      ]
     },
     "execution_count": 5,
     "metadata": {},
     "output_type": "execute_result"
    }
   ],
   "source": [
    "df_tags = pd.DataFrame.from_dict(all_tags, orient='index').rename(columns={0:'Count'}).sort_values('Count', ascending=False).rename(columns={'Count':'Prozentanteil'})\n",
    "df_tags = df_tags / df_tags.sum() * 100\n",
    "df_tags.head()"
   ]
  },
  {
   "cell_type": "code",
   "execution_count": 6,
   "metadata": {},
   "outputs": [
    {
     "data": {
      "image/png": "[encoded data removed]",
      "text/plain": [
       "<matplotlib.figure.Figure at 0x7f2dc4ebca90>"
      ]
     },
     "metadata": {},
     "output_type": "display_data"
    }
   ],
   "source": [
    "n = 10\n",
    "df_tags[:n].plot(kind='bar', grid=True, figsize=(14,6), title='Top-{} Tags sortiert nach ihrer Häufigkeit (Angaben in Prozent)'.format(n), legend=None)\n",
    "plt.ylabel('Prozentanteil')\n",
    "plt.xticks(rotation=70)\n",
    "plt.tight_layout()\n",
    "plt.savefig('Grafiken/01_Häufigkeit_aller_Steam_Tags.pdf')\n",
    "plt.show()"
   ]
  },
  {
   "cell_type": "code",
   "execution_count": 7,
   "metadata": {},
   "outputs": [
    {
     "name": "stdout",
     "output_type": "stream",
     "text": [
      "Es gibt auf Steam:\t337 Tags\n"
     ]
    }
   ],
   "source": [
    "print('Es gibt auf Steam:\\t{} Tags'.format(df_tags.shape[0]))"
   ]
  },
  {
   "cell_type": "code",
   "execution_count": 8,
   "metadata": {},
   "outputs": [
    {
     "data": {
      "text/html": [
       "<div>\n",
       "<style>\n",
       "    .dataframe thead tr:only-child th {\n",
       "        text-align: right;\n",
       "    }\n",
       "\n",
       "    .dataframe thead th {\n",
       "        text-align: left;\n",
       "    }\n",
       "\n",
       "    .dataframe tbody tr th {\n",
       "        vertical-align: top;\n",
       "    }\n",
       "</style>\n",
       "<table border=\"1\" class=\"dataframe\">\n",
       "  <thead>\n",
       "    <tr style=\"text-align: right;\">\n",
       "      <th></th>\n",
       "      <th>Prozentanteil</th>\n",
       "    </tr>\n",
       "  </thead>\n",
       "  <tbody>\n",
       "    <tr>\n",
       "      <th>Action</th>\n",
       "      <td>6.380947</td>\n",
       "    </tr>\n",
       "    <tr>\n",
       "      <th>Indie</th>\n",
       "      <td>4.535468</td>\n",
       "    </tr>\n",
       "    <tr>\n",
       "      <th>Adventure</th>\n",
       "      <td>4.306819</td>\n",
       "    </tr>\n",
       "    <tr>\n",
       "      <th>Multiplayer</th>\n",
       "      <td>3.930681</td>\n",
       "    </tr>\n",
       "    <tr>\n",
       "      <th>Singleplayer</th>\n",
       "      <td>3.396771</td>\n",
       "    </tr>\n",
       "    <tr>\n",
       "      <th>Open World</th>\n",
       "      <td>2.931465</td>\n",
       "    </tr>\n",
       "    <tr>\n",
       "      <th>Free to Play</th>\n",
       "      <td>2.676019</td>\n",
       "    </tr>\n",
       "    <tr>\n",
       "      <th>RPG</th>\n",
       "      <td>2.658464</td>\n",
       "    </tr>\n",
       "    <tr>\n",
       "      <th>Strategy</th>\n",
       "      <td>2.463320</td>\n",
       "    </tr>\n",
       "    <tr>\n",
       "      <th>FPS</th>\n",
       "      <td>2.162029</td>\n",
       "    </tr>\n",
       "    <tr>\n",
       "      <th>Simulation</th>\n",
       "      <td>2.062896</td>\n",
       "    </tr>\n",
       "    <tr>\n",
       "      <th>First-Person</th>\n",
       "      <td>1.990650</td>\n",
       "    </tr>\n",
       "    <tr>\n",
       "      <th>Shooter</th>\n",
       "      <td>1.967699</td>\n",
       "    </tr>\n",
       "    <tr>\n",
       "      <th>Co-op</th>\n",
       "      <td>1.953729</td>\n",
       "    </tr>\n",
       "    <tr>\n",
       "      <th>Survival</th>\n",
       "      <td>1.877547</td>\n",
       "    </tr>\n",
       "    <tr>\n",
       "      <th>Atmospheric</th>\n",
       "      <td>1.707084</td>\n",
       "    </tr>\n",
       "    <tr>\n",
       "      <th>Casual</th>\n",
       "      <td>1.685445</td>\n",
       "    </tr>\n",
       "    <tr>\n",
       "      <th>Great Soundtrack</th>\n",
       "      <td>1.513727</td>\n",
       "    </tr>\n",
       "    <tr>\n",
       "      <th>Early Access</th>\n",
       "      <td>1.501126</td>\n",
       "    </tr>\n",
       "    <tr>\n",
       "      <th>Sandbox</th>\n",
       "      <td>1.493649</td>\n",
       "    </tr>\n",
       "    <tr>\n",
       "      <th>Story Rich</th>\n",
       "      <td>1.282533</td>\n",
       "    </tr>\n",
       "    <tr>\n",
       "      <th>Sci-fi</th>\n",
       "      <td>1.064856</td>\n",
       "    </tr>\n",
       "    <tr>\n",
       "      <th>Third Person</th>\n",
       "      <td>1.056112</td>\n",
       "    </tr>\n",
       "    <tr>\n",
       "      <th>Horror</th>\n",
       "      <td>1.016070</td>\n",
       "    </tr>\n",
       "    <tr>\n",
       "      <th>Zombies</th>\n",
       "      <td>0.970643</td>\n",
       "    </tr>\n",
       "    <tr>\n",
       "      <th>Funny</th>\n",
       "      <td>0.929843</td>\n",
       "    </tr>\n",
       "    <tr>\n",
       "      <th>Online Co-Op</th>\n",
       "      <td>0.886543</td>\n",
       "    </tr>\n",
       "    <tr>\n",
       "      <th>Massively Multiplayer</th>\n",
       "      <td>0.861941</td>\n",
       "    </tr>\n",
       "    <tr>\n",
       "      <th>Crafting</th>\n",
       "      <td>0.787093</td>\n",
       "    </tr>\n",
       "    <tr>\n",
       "      <th>Fantasy</th>\n",
       "      <td>0.779876</td>\n",
       "    </tr>\n",
       "  </tbody>\n",
       "</table>\n",
       "</div>"
      ],
      "text/plain": [
       "                       Prozentanteil\n",
       "Action                      6.380947\n",
       "Indie                       4.535468\n",
       "Adventure                   4.306819\n",
       "Multiplayer                 3.930681\n",
       "Singleplayer                3.396771\n",
       "Open World                  2.931465\n",
       "Free to Play                2.676019\n",
       "RPG                         2.658464\n",
       "Strategy                    2.463320\n",
       "FPS                         2.162029\n",
       "Simulation                  2.062896\n",
       "First-Person                1.990650\n",
       "Shooter                     1.967699\n",
       "Co-op                       1.953729\n",
       "Survival                    1.877547\n",
       "Atmospheric                 1.707084\n",
       "Casual                      1.685445\n",
       "Great Soundtrack            1.513727\n",
       "Early Access                1.501126\n",
       "Sandbox                     1.493649\n",
       "Story Rich                  1.282533\n",
       "Sci-fi                      1.064856\n",
       "Third Person                1.056112\n",
       "Horror                      1.016070\n",
       "Zombies                     0.970643\n",
       "Funny                       0.929843\n",
       "Online Co-Op                0.886543\n",
       "Massively Multiplayer       0.861941\n",
       "Crafting                    0.787093\n",
       "Fantasy                     0.779876"
      ]
     },
     "execution_count": 8,
     "metadata": {},
     "output_type": "execute_result"
    }
   ],
   "source": [
    "df_tags.head(30)"
   ]
  },
  {
   "cell_type": "code",
   "execution_count": 9,
   "metadata": {
    "collapsed": true
   },
   "outputs": [],
   "source": [
    "df_tags.to_csv('All_Tags_Sorted.csv')\n",
    "df_tags.to_csv('Tabellen/01_Häufigkeit_aller_Steam_Tags.csv')"
   ]
  },
  {
   "cell_type": "code",
   "execution_count": null,
   "metadata": {
    "collapsed": true
   },
   "outputs": [],
   "source": []
  }
 ],
 "metadata": {
  "kernelspec": {
   "display_name": "Python 3",
   "language": "python",
   "name": "python3"
  },
  "language_info": {
   "codemirror_mode": {
    "name": "ipython",
    "version": 3
   },
   "file_extension": ".py",
   "mimetype": "text/x-python",
   "name": "python",
   "nbconvert_exporter": "python",
   "pygments_lexer": "ipython3",
   "version": "3.6.1"
  }
 },
 "nbformat": 4,
 "nbformat_minor": 2
}
