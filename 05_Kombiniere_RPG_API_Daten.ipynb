{
 "cells": [
  {
   "cell_type": "markdown",
   "metadata": {},
   "source": [
    "# Kombinieren aller API-Daten für die RPG-Games in eine einzige Datei"
   ]
  },
  {
   "cell_type": "code",
   "execution_count": 1,
   "metadata": {
    "collapsed": true
   },
   "outputs": [],
   "source": [
    "# Import\n",
    "import os\n",
    "import pyprind\n",
    "import pandas as pd\n",
    "from datetime import datetime"
   ]
  },
  {
   "cell_type": "code",
   "execution_count": 2,
   "metadata": {
    "collapsed": true
   },
   "outputs": [],
   "source": [
    "path_data = '/home/jm/Desktop/Gamestar_Data/API/'\n",
    "path_files = sorted([os.path.join(path_data, file) for file in os.listdir(path_data)])"
   ]
  },
  {
   "cell_type": "code",
   "execution_count": 3,
   "metadata": {},
   "outputs": [
    {
     "data": {
      "text/plain": [
       "array([102500,  10270,  10530, ...,   8980,  91700,  99100])"
      ]
     },
     "execution_count": 3,
     "metadata": {},
     "output_type": "execute_result"
    }
   ],
   "source": [
    "rpg_appids = pd.read_csv('rpg_top_2_appids.csv')['0'].values\n",
    "rpg_appids"
   ]
  },
  {
   "cell_type": "code",
   "execution_count": 4,
   "metadata": {},
   "outputs": [
    {
     "name": "stderr",
     "output_type": "stream",
     "text": [
      "[100 %] Time elapsed: 00:29:45 | ETA: 00:00:00\n",
      "Total time elapsed: 00:29:45\n"
     ]
    }
   ],
   "source": [
    "bar = pyprind.ProgPercent(len(path_files))\n",
    "all_dfs = []\n",
    "for file in path_files:\n",
    "    df = pd.read_json(file).T.loc[rpg_appids]\n",
    "    df['date'] = datetime.strptime(file.rsplit('/', 1)[1].split('_', 1)[0], '%Y-%m-%d')\n",
    "    all_dfs.append(df.set_index('date'))\n",
    "    bar.update()"
   ]
  },
  {
   "cell_type": "code",
   "execution_count": 5,
   "metadata": {},
   "outputs": [
    {
     "name": "stdout",
     "output_type": "stream",
     "text": [
      "(182234, 21)\n"
     ]
    },
    {
     "data": {
      "text/html": [
       "<div>\n",
       "<style>\n",
       "    .dataframe thead tr:only-child th {\n",
       "        text-align: right;\n",
       "    }\n",
       "\n",
       "    .dataframe thead th {\n",
       "        text-align: left;\n",
       "    }\n",
       "\n",
       "    .dataframe tbody tr th {\n",
       "        vertical-align: top;\n",
       "    }\n",
       "</style>\n",
       "<table border=\"1\" class=\"dataframe\">\n",
       "  <thead>\n",
       "    <tr style=\"text-align: right;\">\n",
       "      <th></th>\n",
       "      <th>appid</th>\n",
       "      <th>average_2weeks</th>\n",
       "      <th>average_forever</th>\n",
       "      <th>ccu</th>\n",
       "      <th>developer</th>\n",
       "      <th>median_2weeks</th>\n",
       "      <th>median_forever</th>\n",
       "      <th>name</th>\n",
       "      <th>negative</th>\n",
       "      <th>owners</th>\n",
       "      <th>...</th>\n",
       "      <th>players_2weeks</th>\n",
       "      <th>players_2weeks_variance</th>\n",
       "      <th>players_forever</th>\n",
       "      <th>players_forever_variance</th>\n",
       "      <th>positive</th>\n",
       "      <th>price</th>\n",
       "      <th>publisher</th>\n",
       "      <th>score_rank</th>\n",
       "      <th>tags</th>\n",
       "      <th>userscore</th>\n",
       "    </tr>\n",
       "    <tr>\n",
       "      <th>date</th>\n",
       "      <th></th>\n",
       "      <th></th>\n",
       "      <th></th>\n",
       "      <th></th>\n",
       "      <th></th>\n",
       "      <th></th>\n",
       "      <th></th>\n",
       "      <th></th>\n",
       "      <th></th>\n",
       "      <th></th>\n",
       "      <th></th>\n",
       "      <th></th>\n",
       "      <th></th>\n",
       "      <th></th>\n",
       "      <th></th>\n",
       "      <th></th>\n",
       "      <th></th>\n",
       "      <th></th>\n",
       "      <th></th>\n",
       "      <th></th>\n",
       "      <th></th>\n",
       "    </tr>\n",
       "  </thead>\n",
       "  <tbody>\n",
       "    <tr>\n",
       "      <th>2017-11-01</th>\n",
       "      <td>102500</td>\n",
       "      <td>190</td>\n",
       "      <td>1553</td>\n",
       "      <td>453</td>\n",
       "      <td>Big Huge Games, 38 Studios</td>\n",
       "      <td>122</td>\n",
       "      <td>556</td>\n",
       "      <td>Kingdoms of Amalur: Reckoning</td>\n",
       "      <td>NaN</td>\n",
       "      <td>990373</td>\n",
       "      <td>...</td>\n",
       "      <td>13573</td>\n",
       "      <td>3485</td>\n",
       "      <td>823049</td>\n",
       "      <td>27120</td>\n",
       "      <td>NaN</td>\n",
       "      <td>499</td>\n",
       "      <td>38 Studios, Electronic Arts</td>\n",
       "      <td>65</td>\n",
       "      <td>{'Controller': 66, 'Action': 348, 'Adventure':...</td>\n",
       "      <td>NaN</td>\n",
       "    </tr>\n",
       "    <tr>\n",
       "      <th>2017-11-01</th>\n",
       "      <td>10270</td>\n",
       "      <td>216</td>\n",
       "      <td>3102</td>\n",
       "      <td>70</td>\n",
       "      <td>Akella</td>\n",
       "      <td>177</td>\n",
       "      <td>535</td>\n",
       "      <td>Disciples III: Reincarnation</td>\n",
       "      <td>NaN</td>\n",
       "      <td>107415</td>\n",
       "      <td>...</td>\n",
       "      <td>1638</td>\n",
       "      <td>1210</td>\n",
       "      <td>62249</td>\n",
       "      <td>7464</td>\n",
       "      <td>NaN</td>\n",
       "      <td>299</td>\n",
       "      <td>bitComposer Games</td>\n",
       "      <td>28</td>\n",
       "      <td>{'Gothic': 15, 'RPG': 130, 'Fantasy': 52, 'Sin...</td>\n",
       "      <td>NaN</td>\n",
       "    </tr>\n",
       "    <tr>\n",
       "      <th>2017-11-01</th>\n",
       "      <td>10530</td>\n",
       "      <td>5</td>\n",
       "      <td>274</td>\n",
       "      <td>0</td>\n",
       "      <td>Gas Powered Games</td>\n",
       "      <td>5</td>\n",
       "      <td>141</td>\n",
       "      <td>Space Siege</td>\n",
       "      <td>NaN</td>\n",
       "      <td>43996</td>\n",
       "      <td>...</td>\n",
       "      <td>716</td>\n",
       "      <td>1403</td>\n",
       "      <td>21530</td>\n",
       "      <td>4389</td>\n",
       "      <td>NaN</td>\n",
       "      <td>1499</td>\n",
       "      <td>SEGA</td>\n",
       "      <td>8</td>\n",
       "      <td>{'Action': 26, 'RPG': 26, 'Sci-fi': 6}</td>\n",
       "      <td>NaN</td>\n",
       "    </tr>\n",
       "  </tbody>\n",
       "</table>\n",
       "<p>3 rows × 21 columns</p>\n",
       "</div>"
      ],
      "text/plain": [
       "             appid average_2weeks average_forever  ccu  \\\n",
       "date                                                     \n",
       "2017-11-01  102500            190            1553  453   \n",
       "2017-11-01   10270            216            3102   70   \n",
       "2017-11-01   10530              5             274    0   \n",
       "\n",
       "                             developer median_2weeks median_forever  \\\n",
       "date                                                                  \n",
       "2017-11-01  Big Huge Games, 38 Studios           122            556   \n",
       "2017-11-01                      Akella           177            535   \n",
       "2017-11-01           Gas Powered Games             5            141   \n",
       "\n",
       "                                     name negative  owners    ...     \\\n",
       "date                                                          ...      \n",
       "2017-11-01  Kingdoms of Amalur: Reckoning      NaN  990373    ...      \n",
       "2017-11-01   Disciples III: Reincarnation      NaN  107415    ...      \n",
       "2017-11-01                    Space Siege      NaN   43996    ...      \n",
       "\n",
       "           players_2weeks players_2weeks_variance players_forever  \\\n",
       "date                                                                \n",
       "2017-11-01          13573                    3485          823049   \n",
       "2017-11-01           1638                    1210           62249   \n",
       "2017-11-01            716                    1403           21530   \n",
       "\n",
       "           players_forever_variance positive price  \\\n",
       "date                                                 \n",
       "2017-11-01                    27120      NaN   499   \n",
       "2017-11-01                     7464      NaN   299   \n",
       "2017-11-01                     4389      NaN  1499   \n",
       "\n",
       "                              publisher score_rank  \\\n",
       "date                                                 \n",
       "2017-11-01  38 Studios, Electronic Arts         65   \n",
       "2017-11-01            bitComposer Games         28   \n",
       "2017-11-01                         SEGA          8   \n",
       "\n",
       "                                                         tags userscore  \n",
       "date                                                                     \n",
       "2017-11-01  {'Controller': 66, 'Action': 348, 'Adventure':...       NaN  \n",
       "2017-11-01  {'Gothic': 15, 'RPG': 130, 'Fantasy': 52, 'Sin...       NaN  \n",
       "2017-11-01             {'Action': 26, 'RPG': 26, 'Sci-fi': 6}       NaN  \n",
       "\n",
       "[3 rows x 21 columns]"
      ]
     },
     "execution_count": 5,
     "metadata": {},
     "output_type": "execute_result"
    }
   ],
   "source": [
    "df = pd.concat(all_dfs)\n",
    "print(df.shape)\n",
    "\n",
    "df.to_csv('RPG_Games_Data.csv')\n",
    "\n",
    "df.head(3)"
   ]
  },
  {
   "cell_type": "code",
   "execution_count": null,
   "metadata": {
    "collapsed": true
   },
   "outputs": [],
   "source": []
  }
 ],
 "metadata": {
  "kernelspec": {
   "display_name": "Python 3",
   "language": "python",
   "name": "python3"
  },
  "language_info": {
   "codemirror_mode": {
    "name": "ipython",
    "version": 3
   },
   "file_extension": ".py",
   "mimetype": "text/x-python",
   "name": "python",
   "nbconvert_exporter": "python",
   "pygments_lexer": "ipython3",
   "version": "3.6.1"
  }
 },
 "nbformat": 4,
 "nbformat_minor": 2
}
