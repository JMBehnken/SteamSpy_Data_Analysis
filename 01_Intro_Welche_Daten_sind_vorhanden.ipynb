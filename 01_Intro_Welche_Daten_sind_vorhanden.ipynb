{
 "cells": [
  {
   "cell_type": "markdown",
   "metadata": {},
   "source": [
    "# Welche Daten sind vorhanden?\n",
    "\n",
    "Dieses Notebook wirft einen kurzen Blick auf die Daten von SteamSpy und zeigt auf welche Analysen möglich sein können."
   ]
  },
  {
   "cell_type": "code",
   "execution_count": 1,
   "metadata": {
    "collapsed": true
   },
   "outputs": [],
   "source": [
    "# Import\n",
    "import pandas as pd\n",
    "import os"
   ]
  },
  {
   "cell_type": "code",
   "execution_count": 2,
   "metadata": {},
   "outputs": [
    {
     "name": "stdout",
     "output_type": "stream",
     "text": [
      "These folders contain the Data:\n"
     ]
    },
    {
     "data": {
      "text/plain": [
       "['/home/jm/Desktop/Gamestar_Data/Country_Data',\n",
       " '/home/jm/Desktop/Gamestar_Data/API',\n",
       " '/home/jm/Desktop/Gamestar_Data/Deals',\n",
       " '/home/jm/Desktop/Gamestar_Data/Country_Games',\n",
       " '/home/jm/Desktop/Gamestar_Data/Country_Ranks']"
      ]
     },
     "execution_count": 2,
     "metadata": {},
     "output_type": "execute_result"
    }
   ],
   "source": [
    "path_data = '/home/jm/Desktop/Gamestar_Data/'\n",
    "data_folders = [os.path.join(path_data, folder) for folder in os.listdir(path_data)]\n",
    "print('These folders contain the Data:')\n",
    "data_folders"
   ]
  },
  {
   "cell_type": "code",
   "execution_count": 3,
   "metadata": {
    "scrolled": false
   },
   "outputs": [
    {
     "name": "stdout",
     "output_type": "stream",
     "text": [
      "/home/jm/Desktop/Gamestar_Data/Country_Data contains this data:\n",
      "\n",
      "          Country  Active_Users  Active_Users_Variance  Share_Total_Users  \\\n",
      "0   United States      38171349                 302581              13.25   \n",
      "1           China      31840583                 341713              11.05   \n",
      "2          Russia      24954592                 354898               8.66   \n",
      "3          Brazil      17243610                 337165               5.98   \n",
      "4         Germany      11134677                 295022               3.86   \n",
      "5          Canada      11326828                 296823               3.93   \n",
      "6          France       8480315                 266083               2.94   \n",
      "7  United Kingdom      10110829                 284797               3.51   \n",
      "\n",
      "   Share_Total_Games  Games_Per_User  Average_Playtime_2_Weeks  \\\n",
      "0              21.99           42.42                      1577   \n",
      "1               5.13           12.09                      1866   \n",
      "2               7.47           22.36                      1719   \n",
      "3               5.04           22.14                      1501   \n",
      "4               5.42           35.65                      1451   \n",
      "5               5.76           39.27                      1687   \n",
      "6               3.23           28.83                      1295   \n",
      "7               6.91           50.40                      1565   \n",
      "\n",
      "   Average_Playtime_Total  Active_Users_2_Weeks  Active_Users_Total  \n",
      "0                   59958                  33.0                88.0  \n",
      "1                   29772                  56.0                91.0  \n",
      "2                   53398                  26.0                86.0  \n",
      "3                   39062                  31.0                85.0  \n",
      "4                   57667                  35.0                91.0  \n",
      "5                   57130                  34.0                88.0  \n",
      "6                   48197                  30.0                89.0  \n",
      "7                   67818                  35.0                90.0  \n",
      "\n",
      "\n",
      "\n",
      "/home/jm/Desktop/Gamestar_Data/Deals contains this data:\n",
      "\n",
      "   Rank                                 Name  App_ID     Release  Old_Price  \\\n",
      "0     1                              F1 2017  515220  2017-08-24      59.99   \n",
      "1     2             Assassin's Creed Origins  582160  2017-10-26      59.99   \n",
      "2     3                   Motorsport Manager  415200  2016-11-09      34.99   \n",
      "3     4  South Park: The Fractured But Whole  488790  2017-10-16      59.99   \n",
      "4     5               Star Trek: Bridge Crew  527100  2017-05-30      49.99   \n",
      "5     6                            Grim Dawn  219990  2016-02-25      24.99   \n",
      "6     7                       Minion Masters  489520  2016-12-02       4.99   \n",
      "7     8                               INSIDE  304430  2016-07-07      19.99   \n",
      "\n",
      "   Discount  Score_Rank   Owners  Owners_Variance  Players  Players_Variance  \\\n",
      "0      70.0        59.0   197760            14376    46982              7008   \n",
      "1      40.0        59.0   698443            27003   175908             13558   \n",
      "2      75.0        71.0   255668            16345    21852              4779   \n",
      "3      60.0        27.0   269052            16767    16116              4104   \n",
      "4      60.0        62.0    78121             9036     4370              2137   \n",
      "5      75.0        78.0  1272603            36430    81399              9224   \n",
      "6      80.0        49.0   950014            31486    10926              3379   \n",
      "7      55.0        92.0   788036            28681    10107              3250   \n",
      "\n",
      "   Play_Time_Mean  Play_Time_Median  \n",
      "0             380               128  \n",
      "1             482               186  \n",
      "2             632               205  \n",
      "3             276               136  \n",
      "4             509               131  \n",
      "5             773               168  \n",
      "6             628               144  \n",
      "7             134                94  \n",
      "\n",
      "\n",
      "\n",
      "/home/jm/Desktop/Gamestar_Data/Country_Games contains this data:\n",
      "\n",
      "         Country  Rank                              Name  App_ID  \\\n",
      "0  United States     1     PLAYERUNKNOWN'S BATTLEGROUNDS  578080   \n",
      "1  United States     2  Counter-Strike: Global Offensive     730   \n",
      "2  United States     3                Grand Theft Auto V  271590   \n",
      "3  United States     4    Tom Clancy's Rainbow Six Siege  359550   \n",
      "4  United States     5                     Rocket League  252950   \n",
      "5  United States     6                       Garry's Mod    4000   \n",
      "6  United States     7                            Dota 2     570   \n",
      "7  United States     8                   Team Fortress 2     440   \n",
      "\n",
      "   Player_Percentage_2_Weeks  Average_Hours_2_Weeks  Players_Percentage_Total  \\\n",
      "0                     0.2161                    728                    0.1446   \n",
      "1                     0.1770                    646                    0.3070   \n",
      "2                     0.0672                    738                    0.1074   \n",
      "3                     0.0655                    687                    0.0610   \n",
      "4                     0.0647                    556                    0.1176   \n",
      "5                     0.0640                    482                    0.2588   \n",
      "6                     0.0529                   1164                    0.2608   \n",
      "7                     0.0464                    543                    0.4370   \n",
      "\n",
      "   Average_Hours_Total  Library_Share  \n",
      "0                 6828       0.002955  \n",
      "1                17491       0.006416  \n",
      "2                 6668       0.002220  \n",
      "3                 5364       0.001283  \n",
      "4                 6556       0.002517  \n",
      "5                 8510       0.005573  \n",
      "6                16926       0.005266  \n",
      "7                 7931       0.008825  \n",
      "\n",
      "\n",
      "\n",
      "/home/jm/Desktop/Gamestar_Data/Country_Ranks contains this data:\n",
      "\n",
      "         Country Country_Link  Games_Per_User  Minutes (2 Weeks)  Rank  \\\n",
      "0  United States           US           42.78               1786     1   \n",
      "1  United States           US           42.78               1786     2   \n",
      "2  United States           US           42.78               1786     3   \n",
      "3  United States           US           42.78               1786     4   \n",
      "4  United States           US           42.78               1786     5   \n",
      "5  United States           US           42.78               1786     1   \n",
      "6  United States           US           42.78               1786     2   \n",
      "7  United States           US           42.78               1786     3   \n",
      "\n",
      "                               Name                  Category  \n",
      "0                   Team Fortress 2          Most Owned Games  \n",
      "1  Counter-Strike: Global Offensive          Most Owned Games  \n",
      "2                       Garry's Mod          Most Owned Games  \n",
      "3                          Unturned          Most Owned Games  \n",
      "4                            Dota 2          Most Owned Games  \n",
      "5     PLAYERUNKNOWN'S BATTLEGROUNDS  Favorite Games (2 Weeks)  \n",
      "6  Counter-Strike: Global Offensive  Favorite Games (2 Weeks)  \n",
      "7                            VRChat  Favorite Games (2 Weeks)  \n",
      "\n",
      "\n",
      "\n"
     ]
    }
   ],
   "source": [
    "n_days = 1\n",
    "\n",
    "for folder in [folder for folder in data_folders if 'API' not in folder]:\n",
    "    data_files = [os.path.join(folder, file) for file in os.listdir(folder)[:n_days]]\n",
    "    dfs = [pd.read_csv(file, nrows=100) for file in data_files]\n",
    "    df = pd.concat(dfs)\n",
    "    \n",
    "    print(folder, 'contains this data:\\n')\n",
    "    print(df.head(8))\n",
    "    print('\\n\\n')"
   ]
  },
  {
   "cell_type": "code",
   "execution_count": 4,
   "metadata": {},
   "outputs": [
    {
     "name": "stdout",
     "output_type": "stream",
     "text": [
      "/home/jm/Desktop/Gamestar_Data/API contains this data:\n",
      "\n",
      "         appid average_2weeks average_forever             developer  \\\n",
      "10          10            639           11099                 Valve   \n",
      "100        100            346             233                 Valve   \n",
      "10000    10000              0             957                         \n",
      "1002      1002              0              75           Mark Healey   \n",
      "100400  100400              1             226  Nevercenter Ltd. Co.   \n",
      "\n",
      "       median_2weeks median_forever                            name negative  \\\n",
      "10                68            394                  Counter-Strike     2446   \n",
      "100               21             33  Counter-Strike: Condition Zero     1082   \n",
      "10000              0            186     Enemy Territory: Quake Wars        0   \n",
      "1002               0             21                Rag Doll Kung Fu       18   \n",
      "100400             1             93                          Silo 2       14   \n",
      "\n",
      "          owners owners_variance players_2weeks players_2weeks_variance  \\\n",
      "10      13430354          106217         517971                   21160   \n",
      "100     11007953           96424          31680                    5236   \n",
      "10000      22855            4447              0                       0   \n",
      "1002       35301            5527              0                       0   \n",
      "100400      5431            2167            678                    1327   \n",
      "\n",
      "       players_forever players_forever_variance positive price  \\\n",
      "10             9393622                    89234   105194   999   \n",
      "100            1937469                    40861     9641   999   \n",
      "10000            12898                     3341        0     0   \n",
      "1002             10862                     3065       39   999   \n",
      "100400            4978                     2075       45  9999   \n",
      "\n",
      "                   publisher score_rank userscore  \n",
      "10                     Valve         97        96  \n",
      "100                    Valve         70        88  \n",
      "10000                                           0  \n",
      "1002             Mark Healey         25        63  \n",
      "100400  Nevercenter Ltd. Co.         38        74  \n",
      "\n",
      "\n",
      "\n"
     ]
    }
   ],
   "source": [
    "n_days = 1\n",
    "\n",
    "for folder in [folder for folder in data_folders if 'API' in folder]:\n",
    "    data_files = [os.path.join(folder, file) for file in os.listdir(folder)[:n_days]]\n",
    "    dfs = [pd.read_json(file).T for file in data_files]\n",
    "    df = pd.concat(dfs)\n",
    "    \n",
    "    print(folder, 'contains this data:\\n')\n",
    "    print(df.head())\n",
    "    print('\\n\\n')"
   ]
  },
  {
   "cell_type": "code",
   "execution_count": null,
   "metadata": {
    "collapsed": true
   },
   "outputs": [],
   "source": []
  }
 ],
 "metadata": {
  "kernelspec": {
   "display_name": "Python 3",
   "language": "python",
   "name": "python3"
  },
  "language_info": {
   "codemirror_mode": {
    "name": "ipython",
    "version": 3
   },
   "file_extension": ".py",
   "mimetype": "text/x-python",
   "name": "python",
   "nbconvert_exporter": "python",
   "pygments_lexer": "ipython3",
   "version": "3.6.1"
  }
 },
 "nbformat": 4,
 "nbformat_minor": 2
}
