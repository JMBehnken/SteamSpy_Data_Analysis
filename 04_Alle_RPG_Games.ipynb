{
 "cells": [
  {
   "cell_type": "markdown",
   "metadata": {},
   "source": [
    "# Welche Games haben den RPG-Tag?"
   ]
  },
  {
   "cell_type": "code",
   "execution_count": 1,
   "metadata": {
    "collapsed": true
   },
   "outputs": [],
   "source": [
    "# Import\n",
    "import os\n",
    "import operator\n",
    "import pandas as pd\n",
    "import matplotlib.pyplot as plt"
   ]
  },
  {
   "cell_type": "code",
   "execution_count": 2,
   "metadata": {
    "collapsed": true
   },
   "outputs": [],
   "source": [
    "# Path to the data\n",
    "data_path = '/home/jm/Desktop/Gamestar_Data/API/'\n",
    "\n",
    "# Path for the first datafile\n",
    "data_file= sorted([os.path.join(data_path, file) for file in os.listdir(data_path)])[0]"
   ]
  },
  {
   "cell_type": "code",
   "execution_count": 3,
   "metadata": {},
   "outputs": [
    {
     "name": "stdout",
     "output_type": "stream",
     "text": [
      "Games in df:\t\t15495\n",
      "RPG-Games in df:\t2632\n"
     ]
    }
   ],
   "source": [
    "df_data = pd.read_json(data_file).T\n",
    "print('Games in df:\\t\\t{}'.format(df_data.shape[0]))\n",
    "\n",
    "rpg_games = [appid for appid, tags in df_data[['appid', 'tags']].values if tags and 'RPG' in tags.keys()]\n",
    "df_rpg = df_data.loc[rpg_games]\n",
    "print('RPG-Games in df:\\t{}'.format(df_rpg.shape[0]))"
   ]
  },
  {
   "cell_type": "markdown",
   "metadata": {},
   "source": [
    "# Sammeln der appids für alle Games, bei denen das RPG-Tag in den Top-n Tags vorkommt"
   ]
  },
  {
   "cell_type": "code",
   "execution_count": 4,
   "metadata": {
    "scrolled": false
   },
   "outputs": [
    {
     "name": "stdout",
     "output_type": "stream",
     "text": [
      "For the Top-5-Tags there are 2066 games.\n"
     ]
    }
   ],
   "source": [
    "def getTagAppids(n, game_tag='RPG'):\n",
    "    rpg_appids = []\n",
    "    for appid, name, tags in df_data[['appid', 'name', 'tags']].values:\n",
    "        if tags and game_tag in tags.keys():\n",
    "            most_n_tags = [tag for tag, value in sorted(tags.items(), key=operator.itemgetter(1), reverse=True)][:n]\n",
    "            if game_tag in most_n_tags:\n",
    "                rpg_appids.append(appid)\n",
    "    return rpg_appids\n",
    "            \n",
    "n = 5\n",
    "rpg_appids = getTagAppids(n)\n",
    "print('For the Top-{}-Tags there are {} games.'.format(n, len(rpg_appids)))"
   ]
  },
  {
   "cell_type": "markdown",
   "metadata": {},
   "source": [
    "# Wie viele Games gibt es mit dem RPG-Tag in den Top-n für verschiedene n?"
   ]
  },
  {
   "cell_type": "code",
   "execution_count": 5,
   "metadata": {},
   "outputs": [
    {
     "data": {
      "image/png": "[encoded data removed]",
      "text/plain": [
       "<matplotlib.figure.Figure at 0x7f609313e860>"
      ]
     },
     "metadata": {},
     "output_type": "display_data"
    }
   ],
   "source": [
    "tags_in_top_n = [len(getTagAppids(n)) for n in range(1,26)]\n",
    "\n",
    "plt.figure(figsize=(14,5))\n",
    "plt.plot(range(1,26), tags_in_top_n, marker='o')\n",
    "plt.grid()\n",
    "plt.ylim([0, 2700])\n",
    "plt.title('Anzahl der Games mit dem RPG-Tag in den Top-n Tags')\n",
    "plt.xlabel('Top-n Tags')\n",
    "plt.ylabel('Anzahl der Games')\n",
    "plt.tight_layout()\n",
    "plt.savefig('Grafiken/02_Anzahl_der_Games_mit_dem_RPG_Tag.pdf')\n",
    "plt.show()"
   ]
  },
  {
   "cell_type": "markdown",
   "metadata": {},
   "source": [
    "Nur die Games mit dem RPG-Tag als eines der zwei wichtigsten Tags werden für die weiteren Analysen betrachtet."
   ]
  },
  {
   "cell_type": "markdown",
   "metadata": {},
   "source": [
    "# Speichern der appids für die RPG-Games"
   ]
  },
  {
   "cell_type": "code",
   "execution_count": 6,
   "metadata": {
    "collapsed": true
   },
   "outputs": [],
   "source": [
    "n = 2\n",
    "top_n_appids = getTagAppids(n)\n",
    "pd.DataFrame(top_n_appids).to_csv('rpg_top_2_appids.csv', index=False)"
   ]
  },
  {
   "cell_type": "code",
   "execution_count": null,
   "metadata": {
    "collapsed": true
   },
   "outputs": [],
   "source": []
  }
 ],
 "metadata": {
  "kernelspec": {
   "display_name": "Python 3",
   "language": "python",
   "name": "python3"
  },
  "language_info": {
   "codemirror_mode": {
    "name": "ipython",
    "version": 3
   },
   "file_extension": ".py",
   "mimetype": "text/x-python",
   "name": "python",
   "nbconvert_exporter": "python",
   "pygments_lexer": "ipython3",
   "version": "3.6.1"
  }
 },
 "nbformat": 4,
 "nbformat_minor": 2
}
