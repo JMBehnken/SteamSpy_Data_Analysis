{
 "cells": [
  {
   "cell_type": "markdown",
   "metadata": {},
   "source": [
    "  This is an API for Steam Spy. It accepts requests in GET string and returns data in JSON arrays.\n",
    "\n",
    "  Allowed poll rate - 4 requests per second.\n",
    "\n",
    "  ## Examples: ##\n",
    "   \n",
    "  * http://steamspy.com/api.php?request=appdetails&appid=730 - returns data for Counter-Strike: Global Offensive\n",
    "  * http://steamspy.com/api.php?request=top100in2weeks - return Top 100 apps by players in the last two weeks\n",
    "\t\t\n",
    "\n",
    "  ## Common parameters: ##\n",
    " \n",
    "  * request - code for API request call.\n",
    "  * appid - Application ID (a number).\n",
    "\n",
    "\n",
    "  ## Accepted requests: ##\n",
    "  \n",
    "  ### appdetails ###\n",
    "\n",
    "  Returns details for the specific application. Requires *appid* parameter.  \n",
    "\n",
    "  ### genre ###\n",
    "\n",
    "  Returns games in this particular genre. Requires *genre* parameter and works like this:\n",
    "  \n",
    "  * http://steamspy.com/api.php?request=genre&genre=Early+Access\n",
    "\n",
    "\n",
    "  ### top100in2weeks ###\n",
    "\n",
    "  Returns Top 100 games by players in the last two weeks.\n",
    "\n",
    "  ### top100forever ###\n",
    "\n",
    "  Returns Top 100 games by players since March 2009.\n",
    "\n",
    "  ### top100owned ###\n",
    "\n",
    "  Returns Top 100 games by owners.\n",
    "\n",
    "  ### all ###\n",
    "\n",
    "  Returns all games with owners data sorted by owners.\n",
    "\n",
    "\n",
    "  ## Return format for an app: ##\n",
    "\n",
    "  * appid - Steam Application ID. If it's 999999, then data for this application is hidden on developer's request, sorry.\n",
    "  * name - the game's name\n",
    "  * developer - comma separated list of the developers of the game\n",
    "  * publisher - comma separated list of the publishers of the game\n",
    "  * score_rank - score rank of the game based on user reviews\n",
    "  * owners - owners of this application on Steam. **Beware of free weekends!**\n",
    "  * owners_variance - variance in owners. The real number of owners lies somewhere on owners +/- owners_variance range.   \n",
    "  * players_forever - people that have played this game since March 2009.\n",
    "  * players_forever_variance - variance for total players.\n",
    "  * players_2weeks - people that have played this game in the last 2 weeks.\n",
    "  * players_2weeks_variance - variance for the number of players in the last two weeks. \n",
    "  * average_forever - average playtime since March 2009. In minutes.\n",
    "  * average_2weeks - average playtime in the last two weeks. In minutes.\n",
    "  * median_forever - median playtime since March 2009. In minutes.\n",
    "  * median_2weeks - median playtime in the last two weeks. In minutes.\n",
    "  * ccu - peak CCU yesterday.\n",
    "  * price - US price in cents.\n",
    "  * tags - the game's tags with votes in JSON array\n",
    "\n",
    "\n",
    "  ## Questions? ##\n",
    "\n",
    "  Contact me by e-mail: *sergey at galyonkin dot com*.\n",
    "\n",
    "  "
   ]
  },
  {
   "cell_type": "code",
   "execution_count": 1,
   "metadata": {
    "collapsed": true
   },
   "outputs": [],
   "source": [
    "import requests\n",
    "import pandas as pd"
   ]
  },
  {
   "cell_type": "code",
   "execution_count": 2,
   "metadata": {},
   "outputs": [
    {
     "data": {
      "text/plain": [
       "{'appid': 730,\n",
       " 'average_2weeks': 738,\n",
       " 'average_forever': 17668,\n",
       " 'ccu': 506896,\n",
       " 'developer': 'Valve',\n",
       " 'median_2weeks': 296,\n",
       " 'median_forever': 4496,\n",
       " 'name': 'Counter-Strike: Global Offensive',\n",
       " 'owners': 35540597,\n",
       " 'owners_variance': 173231,\n",
       " 'players_2weeks': 10073660,\n",
       " 'players_2weeks_variance': 94886,\n",
       " 'players_forever': 34386047,\n",
       " 'players_forever_variance': 170620,\n",
       " 'price': '1499',\n",
       " 'publisher': 'Valve',\n",
       " 'score_rank': 74,\n",
       " 'tags': {'Action': 11771,\n",
       "  'Co-op': 4894,\n",
       "  'Competitive': 10524,\n",
       "  'Difficult': 3525,\n",
       "  'FPS': 18481,\n",
       "  'Fast-Paced': 3443,\n",
       "  'First-Person': 8067,\n",
       "  'Military': 5103,\n",
       "  'Moddable': 2757,\n",
       "  'Multiplayer': 14884,\n",
       "  'Online Co-Op': 6316,\n",
       "  'PvP': 6999,\n",
       "  'Realistic': 3531,\n",
       "  'Shooter': 13910,\n",
       "  'Strategy': 4881,\n",
       "  'Tactical': 9258,\n",
       "  'Team-Based': 11220,\n",
       "  'Trading': 3532,\n",
       "  'War': 4824,\n",
       "  'e-sports': 7375}}"
      ]
     },
     "execution_count": 2,
     "metadata": {},
     "output_type": "execute_result"
    }
   ],
   "source": [
    "url = 'http://www.steamspy.com/api.php?request=appdetails&appid=730'\n",
    "\n",
    "r = requests.get(url)\n",
    "r.json()"
   ]
  },
  {
   "cell_type": "markdown",
   "metadata": {},
   "source": [
    "# Herunterladen aller Daten des heutigen Tages"
   ]
  },
  {
   "cell_type": "code",
   "execution_count": 3,
   "metadata": {
    "collapsed": true
   },
   "outputs": [],
   "source": [
    "url = 'http://steamspy.com/api.php?request=all'\n",
    "\n",
    "r = requests.get(url)"
   ]
  },
  {
   "cell_type": "markdown",
   "metadata": {},
   "source": [
    "Daten einlesen und Names-Index setzen"
   ]
  },
  {
   "cell_type": "code",
   "execution_count": 4,
   "metadata": {
    "collapsed": true
   },
   "outputs": [],
   "source": [
    "df = pd.DataFrame.from_dict(r.json(), orient='index', dtype='int').set_index('name')"
   ]
  },
  {
   "cell_type": "markdown",
   "metadata": {},
   "source": [
    "Übersicht über die Datenstruktur"
   ]
  },
  {
   "cell_type": "code",
   "execution_count": 5,
   "metadata": {},
   "outputs": [
    {
     "data": {
      "text/html": [
       "<div>\n",
       "<style>\n",
       "    .dataframe thead tr:only-child th {\n",
       "        text-align: right;\n",
       "    }\n",
       "\n",
       "    .dataframe thead th {\n",
       "        text-align: left;\n",
       "    }\n",
       "\n",
       "    .dataframe tbody tr th {\n",
       "        vertical-align: top;\n",
       "    }\n",
       "</style>\n",
       "<table border=\"1\" class=\"dataframe\">\n",
       "  <thead>\n",
       "    <tr style=\"text-align: right;\">\n",
       "      <th></th>\n",
       "      <th>appid</th>\n",
       "      <th>developer</th>\n",
       "      <th>publisher</th>\n",
       "      <th>score_rank</th>\n",
       "      <th>owners</th>\n",
       "      <th>owners_variance</th>\n",
       "      <th>players_forever</th>\n",
       "      <th>players_forever_variance</th>\n",
       "      <th>players_2weeks</th>\n",
       "      <th>players_2weeks_variance</th>\n",
       "      <th>average_forever</th>\n",
       "      <th>average_2weeks</th>\n",
       "      <th>median_forever</th>\n",
       "      <th>median_2weeks</th>\n",
       "      <th>ccu</th>\n",
       "      <th>price</th>\n",
       "      <th>tags</th>\n",
       "    </tr>\n",
       "    <tr>\n",
       "      <th>name</th>\n",
       "      <th></th>\n",
       "      <th></th>\n",
       "      <th></th>\n",
       "      <th></th>\n",
       "      <th></th>\n",
       "      <th></th>\n",
       "      <th></th>\n",
       "      <th></th>\n",
       "      <th></th>\n",
       "      <th></th>\n",
       "      <th></th>\n",
       "      <th></th>\n",
       "      <th></th>\n",
       "      <th></th>\n",
       "      <th></th>\n",
       "      <th></th>\n",
       "      <th></th>\n",
       "    </tr>\n",
       "  </thead>\n",
       "  <tbody>\n",
       "    <tr>\n",
       "      <th>Counter-Strike</th>\n",
       "      <td>10</td>\n",
       "      <td>Valve</td>\n",
       "      <td>Valve</td>\n",
       "      <td>97</td>\n",
       "      <td>14014789</td>\n",
       "      <td>111439</td>\n",
       "      <td>9832293</td>\n",
       "      <td>93767</td>\n",
       "      <td>327313</td>\n",
       "      <td>17283</td>\n",
       "      <td>11106</td>\n",
       "      <td>750</td>\n",
       "      <td>410</td>\n",
       "      <td>77</td>\n",
       "      <td>19062</td>\n",
       "      <td>999</td>\n",
       "      <td>{'Action': 2560, 'FPS': 1930, 'Multiplayer': 1...</td>\n",
       "    </tr>\n",
       "    <tr>\n",
       "      <th>Counter-Strike: Condition Zero</th>\n",
       "      <td>100</td>\n",
       "      <td>Valve</td>\n",
       "      <td>Valve</td>\n",
       "      <td>71</td>\n",
       "      <td>11363575</td>\n",
       "      <td>100637</td>\n",
       "      <td>2046723</td>\n",
       "      <td>43141</td>\n",
       "      <td>12653</td>\n",
       "      <td>3399</td>\n",
       "      <td>237</td>\n",
       "      <td>365</td>\n",
       "      <td>32</td>\n",
       "      <td>25</td>\n",
       "      <td>62</td>\n",
       "      <td>999</td>\n",
       "      <td>{'Action': 354, 'FPS': 274, 'Shooter': 201, 'M...</td>\n",
       "    </tr>\n",
       "  </tbody>\n",
       "</table>\n",
       "</div>"
      ],
      "text/plain": [
       "                                appid developer publisher score_rank  \\\n",
       "name                                                                   \n",
       "Counter-Strike                     10     Valve     Valve         97   \n",
       "Counter-Strike: Condition Zero    100     Valve     Valve         71   \n",
       "\n",
       "                                  owners  owners_variance  players_forever  \\\n",
       "name                                                                         \n",
       "Counter-Strike                  14014789           111439          9832293   \n",
       "Counter-Strike: Condition Zero  11363575           100637          2046723   \n",
       "\n",
       "                                players_forever_variance  players_2weeks  \\\n",
       "name                                                                       \n",
       "Counter-Strike                                     93767          327313   \n",
       "Counter-Strike: Condition Zero                     43141           12653   \n",
       "\n",
       "                                players_2weeks_variance  average_forever  \\\n",
       "name                                                                       \n",
       "Counter-Strike                                    17283            11106   \n",
       "Counter-Strike: Condition Zero                     3399              237   \n",
       "\n",
       "                                average_2weeks  median_forever  median_2weeks  \\\n",
       "name                                                                            \n",
       "Counter-Strike                             750             410             77   \n",
       "Counter-Strike: Condition Zero             365              32             25   \n",
       "\n",
       "                                  ccu price  \\\n",
       "name                                          \n",
       "Counter-Strike                  19062   999   \n",
       "Counter-Strike: Condition Zero     62   999   \n",
       "\n",
       "                                                                             tags  \n",
       "name                                                                               \n",
       "Counter-Strike                  {'Action': 2560, 'FPS': 1930, 'Multiplayer': 1...  \n",
       "Counter-Strike: Condition Zero  {'Action': 354, 'FPS': 274, 'Shooter': 201, 'M...  "
      ]
     },
     "execution_count": 5,
     "metadata": {},
     "output_type": "execute_result"
    }
   ],
   "source": [
    "df.head(2)"
   ]
  },
  {
   "cell_type": "markdown",
   "metadata": {},
   "source": [
    "# Publisher mit der höchsten durchschnittlichen Spieldauer pro Spieler\n",
    "Nur Publisher mit mindestens n Spielen werden berücksichtigt."
   ]
  },
  {
   "cell_type": "code",
   "execution_count": 24,
   "metadata": {},
   "outputs": [
    {
     "data": {
      "text/html": [
       "<div>\n",
       "<style>\n",
       "    .dataframe thead tr:only-child th {\n",
       "        text-align: right;\n",
       "    }\n",
       "\n",
       "    .dataframe thead th {\n",
       "        text-align: left;\n",
       "    }\n",
       "\n",
       "    .dataframe tbody tr th {\n",
       "        vertical-align: top;\n",
       "    }\n",
       "</style>\n",
       "<table border=\"1\" class=\"dataframe\">\n",
       "  <thead>\n",
       "    <tr style=\"text-align: right;\">\n",
       "      <th></th>\n",
       "      <th>owners</th>\n",
       "      <th>average_forever</th>\n",
       "      <th>appid</th>\n",
       "    </tr>\n",
       "    <tr>\n",
       "      <th>developer</th>\n",
       "      <th></th>\n",
       "      <th></th>\n",
       "      <th></th>\n",
       "    </tr>\n",
       "  </thead>\n",
       "  <tbody>\n",
       "    <tr>\n",
       "      <th>Paradox Development Studio</th>\n",
       "      <td>7147418</td>\n",
       "      <td>3685.076923</td>\n",
       "      <td>13</td>\n",
       "    </tr>\n",
       "    <tr>\n",
       "      <th>Bethesda Game Studios</th>\n",
       "      <td>33436577</td>\n",
       "      <td>2664.000000</td>\n",
       "      <td>8</td>\n",
       "    </tr>\n",
       "    <tr>\n",
       "      <th>Valve</th>\n",
       "      <td>410830791</td>\n",
       "      <td>2430.965517</td>\n",
       "      <td>29</td>\n",
       "    </tr>\n",
       "    <tr>\n",
       "      <th>Daybreak Game Company</th>\n",
       "      <td>30395737</td>\n",
       "      <td>2409.250000</td>\n",
       "      <td>8</td>\n",
       "    </tr>\n",
       "    <tr>\n",
       "      <th>SQUARE ENIX</th>\n",
       "      <td>5421320</td>\n",
       "      <td>2271.769231</td>\n",
       "      <td>13</td>\n",
       "    </tr>\n",
       "    <tr>\n",
       "      <th>KOEI TECMO GAMES CO., LTD.</th>\n",
       "      <td>2081102</td>\n",
       "      <td>2211.850000</td>\n",
       "      <td>20</td>\n",
       "    </tr>\n",
       "    <tr>\n",
       "      <th>Firaxis Games</th>\n",
       "      <td>14360485</td>\n",
       "      <td>1790.636364</td>\n",
       "      <td>11</td>\n",
       "    </tr>\n",
       "    <tr>\n",
       "      <th>Obsidian Entertainment</th>\n",
       "      <td>10850283</td>\n",
       "      <td>1775.500000</td>\n",
       "      <td>8</td>\n",
       "    </tr>\n",
       "    <tr>\n",
       "      <th>Eugen Systems</th>\n",
       "      <td>3169281</td>\n",
       "      <td>1568.625000</td>\n",
       "      <td>8</td>\n",
       "    </tr>\n",
       "    <tr>\n",
       "      <th>Bohemia Interactive</th>\n",
       "      <td>22295029</td>\n",
       "      <td>1564.266667</td>\n",
       "      <td>15</td>\n",
       "    </tr>\n",
       "  </tbody>\n",
       "</table>\n",
       "</div>"
      ],
      "text/plain": [
       "                               owners  average_forever  appid\n",
       "developer                                                    \n",
       "Paradox Development Studio    7147418      3685.076923     13\n",
       "Bethesda Game Studios        33436577      2664.000000      8\n",
       "Valve                       410830791      2430.965517     29\n",
       "Daybreak Game Company        30395737      2409.250000      8\n",
       "SQUARE ENIX                   5421320      2271.769231     13\n",
       "KOEI TECMO GAMES CO., LTD.    2081102      2211.850000     20\n",
       "Firaxis Games                14360485      1790.636364     11\n",
       "Obsidian Entertainment       10850283      1775.500000      8\n",
       "Eugen Systems                 3169281      1568.625000      8\n",
       "Bohemia Interactive          22295029      1564.266667     15"
      ]
     },
     "execution_count": 24,
     "metadata": {},
     "output_type": "execute_result"
    }
   ],
   "source": [
    "n = 8\n",
    "games = 10000\n",
    "\n",
    "df_temp = df[df['owners']>games].groupby('developer').agg({'owners':'sum', 'average_forever':'mean', 'appid':'count'})\n",
    "df_temp[df_temp['appid']>=n].sort_values(by='average_forever', ascending=False).head(10)"
   ]
  },
  {
   "cell_type": "code",
   "execution_count": 25,
   "metadata": {},
   "outputs": [
    {
     "data": {
      "text/plain": [
       "name\n",
       "Crusader Kings II                            697\n",
       "Crusader Kings Complete                       48\n",
       "Hearts of Iron 2 Complete                    280\n",
       "March of the Eagles                            0\n",
       "Europa Universalis: Rome - Gold Edition        0\n",
       "Europa Universalis IV                        948\n",
       "Europa Universalis III Complete              708\n",
       "Hearts of Iron III                           281\n",
       "Stellaris                                    905\n",
       "Hearts of Iron IV                            789\n",
       "Victoria II                                  348\n",
       "Victoria I Complete                         1384\n",
       "Sengoku                                        0\n",
       "Name: average_2weeks, dtype: int64"
      ]
     },
     "execution_count": 25,
     "metadata": {},
     "output_type": "execute_result"
    }
   ],
   "source": [
    "df[(df['developer']=='Paradox Development Studio') & (df['owners']>games)]['average_2weeks']"
   ]
  },
  {
   "cell_type": "code",
   "execution_count": 26,
   "metadata": {},
   "outputs": [
    {
     "data": {
      "text/plain": [
       "name\n",
       "Crusader Kings II                            6371\n",
       "Crusader Kings Complete                       495\n",
       "Hearts of Iron 2 Complete                    3141\n",
       "March of the Eagles                           893\n",
       "Europa Universalis: Rome - Gold Edition       775\n",
       "Europa Universalis IV                       12919\n",
       "Europa Universalis III Complete              2832\n",
       "Hearts of Iron III                           2495\n",
       "Stellaris                                    5191\n",
       "Hearts of Iron IV                            7464\n",
       "Victoria II                                  3976\n",
       "Victoria I Complete                          1012\n",
       "Sengoku                                       342\n",
       "Name: average_forever, dtype: int64"
      ]
     },
     "execution_count": 26,
     "metadata": {},
     "output_type": "execute_result"
    }
   ],
   "source": [
    "df[(df['developer']=='Paradox Development Studio') & (df['owners']>games)]['average_forever']"
   ]
  },
  {
   "cell_type": "code",
   "execution_count": null,
   "metadata": {
    "collapsed": true
   },
   "outputs": [],
   "source": []
  },
  {
   "cell_type": "code",
   "execution_count": null,
   "metadata": {
    "collapsed": true
   },
   "outputs": [],
   "source": []
  },
  {
   "cell_type": "code",
   "execution_count": 108,
   "metadata": {
    "collapsed": true
   },
   "outputs": [],
   "source": [
    "url = 'https://steamspy.com/country/'"
   ]
  },
  {
   "cell_type": "code",
   "execution_count": 109,
   "metadata": {
    "collapsed": true
   },
   "outputs": [],
   "source": [
    "from bs4 import BeautifulSoup\n",
    "import datetime\n",
    "import re"
   ]
  },
  {
   "cell_type": "code",
   "execution_count": 110,
   "metadata": {
    "collapsed": true
   },
   "outputs": [],
   "source": [
    "html = requests.get(url).text\n",
    "bs = BeautifulSoup(html, 'lxml')"
   ]
  },
  {
   "cell_type": "code",
   "execution_count": 141,
   "metadata": {
    "collapsed": true
   },
   "outputs": [],
   "source": [
    "pattern = re.compile('[1-5]\\. ')\n",
    "today = datetime.date.today()\n",
    "\n",
    "data = []\n",
    "for row in bs.find('tbody').findAll('tr'):\n",
    "    entries = row.findAll('td')\n",
    "    \n",
    "    country = entries[1].get_text()\n",
    "    games_per_user = float(entries[2].get_text())\n",
    "    time = entries[3].get_text().split(':')\n",
    "    time = 60*int(time[0]) + int(time[1])\n",
    "\n",
    "    owned_games = re.split(pattern, entries[4].get_text())[1:]\n",
    "    owned_games = list(zip(list(range(1,6)), owned_games, ['most owned games']*5))\n",
    "    favorite_games = re.split(pattern, entries[5].get_text())[1:]\n",
    "    favorite_games = list(zip(list(range(1,6)), favorite_games, ['favorite games (2 weeks)']*5))\n",
    "    \n",
    "    for rank in owned_games+favorite_games:\n",
    "        data.append([country, games_per_user, time, rank[0], rank[1], rank[2], today])"
   ]
  },
  {
   "cell_type": "code",
   "execution_count": 142,
   "metadata": {},
   "outputs": [
    {
     "data": {
      "text/html": [
       "<div>\n",
       "<style>\n",
       "    .dataframe thead tr:only-child th {\n",
       "        text-align: right;\n",
       "    }\n",
       "\n",
       "    .dataframe thead th {\n",
       "        text-align: left;\n",
       "    }\n",
       "\n",
       "    .dataframe tbody tr th {\n",
       "        vertical-align: top;\n",
       "    }\n",
       "</style>\n",
       "<table border=\"1\" class=\"dataframe\">\n",
       "  <thead>\n",
       "    <tr style=\"text-align: right;\">\n",
       "      <th></th>\n",
       "      <th>country</th>\n",
       "      <th>games per user</th>\n",
       "      <th>minutes (2 weeks)</th>\n",
       "      <th>rank</th>\n",
       "      <th>name</th>\n",
       "      <th>category</th>\n",
       "    </tr>\n",
       "    <tr>\n",
       "      <th>today</th>\n",
       "      <th></th>\n",
       "      <th></th>\n",
       "      <th></th>\n",
       "      <th></th>\n",
       "      <th></th>\n",
       "      <th></th>\n",
       "    </tr>\n",
       "  </thead>\n",
       "  <tbody>\n",
       "    <tr>\n",
       "      <th>2017-10-19</th>\n",
       "      <td>United States</td>\n",
       "      <td>41.86</td>\n",
       "      <td>1565</td>\n",
       "      <td>1</td>\n",
       "      <td>Team Fortress 2</td>\n",
       "      <td>most owned games</td>\n",
       "    </tr>\n",
       "    <tr>\n",
       "      <th>2017-10-19</th>\n",
       "      <td>United States</td>\n",
       "      <td>41.86</td>\n",
       "      <td>1565</td>\n",
       "      <td>2</td>\n",
       "      <td>Counter-Strike: Global Offensive</td>\n",
       "      <td>most owned games</td>\n",
       "    </tr>\n",
       "    <tr>\n",
       "      <th>2017-10-19</th>\n",
       "      <td>United States</td>\n",
       "      <td>41.86</td>\n",
       "      <td>1565</td>\n",
       "      <td>3</td>\n",
       "      <td>Garry's Mod</td>\n",
       "      <td>most owned games</td>\n",
       "    </tr>\n",
       "    <tr>\n",
       "      <th>2017-10-19</th>\n",
       "      <td>United States</td>\n",
       "      <td>41.86</td>\n",
       "      <td>1565</td>\n",
       "      <td>4</td>\n",
       "      <td>Unturned</td>\n",
       "      <td>most owned games</td>\n",
       "    </tr>\n",
       "    <tr>\n",
       "      <th>2017-10-19</th>\n",
       "      <td>United States</td>\n",
       "      <td>41.86</td>\n",
       "      <td>1565</td>\n",
       "      <td>5</td>\n",
       "      <td>Dota 2</td>\n",
       "      <td>most owned games</td>\n",
       "    </tr>\n",
       "  </tbody>\n",
       "</table>\n",
       "</div>"
      ],
      "text/plain": [
       "                  country  games per user  minutes (2 weeks)  rank  \\\n",
       "today                                                                \n",
       "2017-10-19  United States           41.86               1565     1   \n",
       "2017-10-19  United States           41.86               1565     2   \n",
       "2017-10-19  United States           41.86               1565     3   \n",
       "2017-10-19  United States           41.86               1565     4   \n",
       "2017-10-19  United States           41.86               1565     5   \n",
       "\n",
       "                                        name          category  \n",
       "today                                                           \n",
       "2017-10-19                   Team Fortress 2  most owned games  \n",
       "2017-10-19  Counter-Strike: Global Offensive  most owned games  \n",
       "2017-10-19                       Garry's Mod  most owned games  \n",
       "2017-10-19                          Unturned  most owned games  \n",
       "2017-10-19                            Dota 2  most owned games  "
      ]
     },
     "execution_count": 142,
     "metadata": {},
     "output_type": "execute_result"
    }
   ],
   "source": [
    "fd = pd.DataFrame(data, columns=['country', 'games per user', 'minutes (2 weeks)', 'rank', 'name', 'category', 'today']).set_index('today')\n",
    "fd.head()"
   ]
  },
  {
   "cell_type": "code",
   "execution_count": 143,
   "metadata": {},
   "outputs": [
    {
     "data": {
      "text/plain": [
       "(1000, 6)"
      ]
     },
     "execution_count": 143,
     "metadata": {},
     "output_type": "execute_result"
    }
   ],
   "source": [
    "fd.shape"
   ]
  },
  {
   "cell_type": "markdown",
   "metadata": {},
   "source": [
    "# Fehlerhafte Interpretation\n",
    "Kleine Länder sind hier gleichbedeutend mit Großen. Somit spielt die Anzahl der Spieler keinerlei Rolle!"
   ]
  },
  {
   "cell_type": "code",
   "execution_count": 150,
   "metadata": {},
   "outputs": [
    {
     "data": {
      "text/html": [
       "<div>\n",
       "<style>\n",
       "    .dataframe thead tr:only-child th {\n",
       "        text-align: right;\n",
       "    }\n",
       "\n",
       "    .dataframe thead th {\n",
       "        text-align: left;\n",
       "    }\n",
       "\n",
       "    .dataframe tbody tr th {\n",
       "        vertical-align: top;\n",
       "    }\n",
       "</style>\n",
       "<table border=\"1\" class=\"dataframe\">\n",
       "  <thead>\n",
       "    <tr style=\"text-align: right;\">\n",
       "      <th></th>\n",
       "      <th>rank</th>\n",
       "      <th>name</th>\n",
       "    </tr>\n",
       "    <tr>\n",
       "      <th>name</th>\n",
       "      <th></th>\n",
       "      <th></th>\n",
       "    </tr>\n",
       "  </thead>\n",
       "  <tbody>\n",
       "    <tr>\n",
       "      <th>Counter-Strike: Global Offensive</th>\n",
       "      <td>1.380000</td>\n",
       "      <td>100</td>\n",
       "    </tr>\n",
       "    <tr>\n",
       "      <th>Dota 2</th>\n",
       "      <td>2.443182</td>\n",
       "      <td>88</td>\n",
       "    </tr>\n",
       "    <tr>\n",
       "      <th>PLAYERUNKNOWN'S BATTLEGROUNDS</th>\n",
       "      <td>2.489583</td>\n",
       "      <td>96</td>\n",
       "    </tr>\n",
       "    <tr>\n",
       "      <th>Rocket League</th>\n",
       "      <td>3.636364</td>\n",
       "      <td>33</td>\n",
       "    </tr>\n",
       "    <tr>\n",
       "      <th>Paladins</th>\n",
       "      <td>4.000000</td>\n",
       "      <td>33</td>\n",
       "    </tr>\n",
       "    <tr>\n",
       "      <th>Grand Theft Auto V</th>\n",
       "      <td>4.250000</td>\n",
       "      <td>32</td>\n",
       "    </tr>\n",
       "    <tr>\n",
       "      <th>Counter-Strike</th>\n",
       "      <td>4.300000</td>\n",
       "      <td>10</td>\n",
       "    </tr>\n",
       "    <tr>\n",
       "      <th>Team Fortress 2</th>\n",
       "      <td>4.461538</td>\n",
       "      <td>26</td>\n",
       "    </tr>\n",
       "    <tr>\n",
       "      <th>Warframe</th>\n",
       "      <td>4.619048</td>\n",
       "      <td>21</td>\n",
       "    </tr>\n",
       "  </tbody>\n",
       "</table>\n",
       "</div>"
      ],
      "text/plain": [
       "                                      rank  name\n",
       "name                                            \n",
       "Counter-Strike: Global Offensive  1.380000   100\n",
       "Dota 2                            2.443182    88\n",
       "PLAYERUNKNOWN'S BATTLEGROUNDS     2.489583    96\n",
       "Rocket League                     3.636364    33\n",
       "Paladins                          4.000000    33\n",
       "Grand Theft Auto V                4.250000    32\n",
       "Counter-Strike                    4.300000    10\n",
       "Team Fortress 2                   4.461538    26\n",
       "Warframe                          4.619048    21"
      ]
     },
     "execution_count": 150,
     "metadata": {},
     "output_type": "execute_result"
    }
   ],
   "source": [
    "n = 10\n",
    "\n",
    "fd_temp = fd[fd['category']=='favorite games (2 weeks)'].groupby('name').agg({'rank':'mean', 'name':'count'})\n",
    "fd_temp[fd_temp['name']>=n].sort_values('rank')"
   ]
  },
  {
   "cell_type": "code",
   "execution_count": null,
   "metadata": {
    "collapsed": true
   },
   "outputs": [],
   "source": []
  },
  {
   "cell_type": "code",
   "execution_count": 214,
   "metadata": {
    "collapsed": true
   },
   "outputs": [],
   "source": [
    "url = 'http://steamspy.com/sale'\n",
    "\n",
    "html = requests.get(url).text\n",
    "bs = BeautifulSoup(html, 'lxml')"
   ]
  },
  {
   "cell_type": "code",
   "execution_count": 220,
   "metadata": {
    "collapsed": true
   },
   "outputs": [],
   "source": [
    "pattern_1 = re.compile('\\(\\$(.*?)\\)')\n",
    "pattern_2 = re.compile('\\((.*?)%\\)')\n",
    "\n",
    "data  = []\n",
    "for row in bs.find('tbody').findAll('tr'):\n",
    "    entries = row.findAll('td')\n",
    "    \n",
    "    rank = int(entries[0].get_text())\n",
    "    appid = int(entries[1].find('a')['href'].rsplit('/', 1)[-1])\n",
    "    name = entries[1].get_text().strip()\n",
    "    owner_before = int(entries[2]['data-order'])\n",
    "    owner_before_std = int(entries[2].find('font').get_text()[1:].replace(',', ''))\n",
    "    owner_after = int(entries[3]['data-order'])\n",
    "    owner_after_std = int(entries[3].find('font').get_text()[1:].replace(',', ''))\n",
    "    sales = int(entries[4]['data-order'])\n",
    "    increase = float(entries[5]['data-order'])\n",
    "    price = int(entries[6]['data-order'])\n",
    "    try:\n",
    "        discount_percentage = int(entries[7]['data-order'])\n",
    "    except:\n",
    "        discount_percentage = None\n",
    "    discount_absolut = int(re.search(pattern_1, entries[7].get_text()).group(1).replace('.', ''))\n",
    "    user_score_1 = int(entries[8]['data-order'])\n",
    "    try:\n",
    "        user_score_2 = int(re.search(pattern_2, entries[8].get_text()).group(1))\n",
    "    except:\n",
    "        user_score_2 = None\n",
    "    data.append([rank, appid, name, owner_before, owner_before_std, owner_after, owner_after_std, sales, increase, price, discount_percentage, discount_absolut, user_score_1, user_score_2])"
   ]
  },
  {
   "cell_type": "code",
   "execution_count": 221,
   "metadata": {},
   "outputs": [
    {
     "data": {
      "text/html": [
       "<div>\n",
       "<style>\n",
       "    .dataframe thead tr:only-child th {\n",
       "        text-align: right;\n",
       "    }\n",
       "\n",
       "    .dataframe thead th {\n",
       "        text-align: left;\n",
       "    }\n",
       "\n",
       "    .dataframe tbody tr th {\n",
       "        vertical-align: top;\n",
       "    }\n",
       "</style>\n",
       "<table border=\"1\" class=\"dataframe\">\n",
       "  <thead>\n",
       "    <tr style=\"text-align: right;\">\n",
       "      <th></th>\n",
       "      <th>rank</th>\n",
       "      <th>appid</th>\n",
       "      <th>name</th>\n",
       "      <th>ower_before</th>\n",
       "      <th>owner_before_std</th>\n",
       "      <th>owner_after</th>\n",
       "      <th>owner_after_std</th>\n",
       "      <th>sales</th>\n",
       "      <th>increase</th>\n",
       "      <th>price</th>\n",
       "      <th>discount_percentage</th>\n",
       "      <th>dicount_absolut</th>\n",
       "      <th>user_score_1</th>\n",
       "      <th>user_score_2</th>\n",
       "    </tr>\n",
       "  </thead>\n",
       "  <tbody>\n",
       "    <tr>\n",
       "      <th>0</th>\n",
       "      <td>1</td>\n",
       "      <td>730</td>\n",
       "      <td>Counter-Strike: Global Offensive</td>\n",
       "      <td>22273413</td>\n",
       "      <td>140867</td>\n",
       "      <td>22891335</td>\n",
       "      <td>144941</td>\n",
       "      <td>617922</td>\n",
       "      <td>2.77</td>\n",
       "      <td>1499</td>\n",
       "      <td>50.0</td>\n",
       "      <td>749</td>\n",
       "      <td>90</td>\n",
       "      <td>83.0</td>\n",
       "    </tr>\n",
       "    <tr>\n",
       "      <th>1</th>\n",
       "      <td>2</td>\n",
       "      <td>240</td>\n",
       "      <td>Counter-Strike: Source</td>\n",
       "      <td>14869820</td>\n",
       "      <td>116543</td>\n",
       "      <td>14950456</td>\n",
       "      <td>118698</td>\n",
       "      <td>80636</td>\n",
       "      <td>0.54</td>\n",
       "      <td>1999</td>\n",
       "      <td>0.0</td>\n",
       "      <td>1999</td>\n",
       "      <td>95</td>\n",
       "      <td>88.0</td>\n",
       "    </tr>\n",
       "    <tr>\n",
       "      <th>2</th>\n",
       "      <td>3</td>\n",
       "      <td>550</td>\n",
       "      <td>Left 4 Dead 2</td>\n",
       "      <td>14125477</td>\n",
       "      <td>113729</td>\n",
       "      <td>14518139</td>\n",
       "      <td>117053</td>\n",
       "      <td>392662</td>\n",
       "      <td>2.78</td>\n",
       "      <td>1999</td>\n",
       "      <td>80.0</td>\n",
       "      <td>399</td>\n",
       "      <td>96</td>\n",
       "      <td>89.0</td>\n",
       "    </tr>\n",
       "    <tr>\n",
       "      <th>3</th>\n",
       "      <td>4</td>\n",
       "      <td>320</td>\n",
       "      <td>Half-Life 2: Deathmatch</td>\n",
       "      <td>13505650</td>\n",
       "      <td>111320</td>\n",
       "      <td>13634900</td>\n",
       "      <td>113601</td>\n",
       "      <td>129250</td>\n",
       "      <td>0.96</td>\n",
       "      <td>499</td>\n",
       "      <td>80.0</td>\n",
       "      <td>99</td>\n",
       "      <td>87</td>\n",
       "      <td>NaN</td>\n",
       "    </tr>\n",
       "    <tr>\n",
       "      <th>4</th>\n",
       "      <td>5</td>\n",
       "      <td>4000</td>\n",
       "      <td>Garry's Mod</td>\n",
       "      <td>11501361</td>\n",
       "      <td>103069</td>\n",
       "      <td>11914420</td>\n",
       "      <td>106492</td>\n",
       "      <td>413059</td>\n",
       "      <td>3.59</td>\n",
       "      <td>999</td>\n",
       "      <td>75.0</td>\n",
       "      <td>249</td>\n",
       "      <td>95</td>\n",
       "      <td>NaN</td>\n",
       "    </tr>\n",
       "  </tbody>\n",
       "</table>\n",
       "</div>"
      ],
      "text/plain": [
       "   rank  appid                              name  ower_before  \\\n",
       "0     1    730  Counter-Strike: Global Offensive     22273413   \n",
       "1     2    240            Counter-Strike: Source     14869820   \n",
       "2     3    550                     Left 4 Dead 2     14125477   \n",
       "3     4    320           Half-Life 2: Deathmatch     13505650   \n",
       "4     5   4000                       Garry's Mod     11501361   \n",
       "\n",
       "   owner_before_std  owner_after  owner_after_std   sales  increase  price  \\\n",
       "0            140867     22891335           144941  617922      2.77   1499   \n",
       "1            116543     14950456           118698   80636      0.54   1999   \n",
       "2            113729     14518139           117053  392662      2.78   1999   \n",
       "3            111320     13634900           113601  129250      0.96    499   \n",
       "4            103069     11914420           106492  413059      3.59    999   \n",
       "\n",
       "   discount_percentage  dicount_absolut  user_score_1  user_score_2  \n",
       "0                 50.0              749            90          83.0  \n",
       "1                  0.0             1999            95          88.0  \n",
       "2                 80.0              399            96          89.0  \n",
       "3                 80.0               99            87           NaN  \n",
       "4                 75.0              249            95           NaN  "
      ]
     },
     "execution_count": 221,
     "metadata": {},
     "output_type": "execute_result"
    }
   ],
   "source": [
    "dd = pd.DataFrame(data, columns=['rank', 'appid', 'name', 'ower_before', 'owner_before_std', 'owner_after', 'owner_after_std', 'sales', 'increase', 'price', 'discount_percentage', 'dicount_absolut', 'user_score_1', 'user_score_2'])\n",
    "dd.head()"
   ]
  },
  {
   "cell_type": "code",
   "execution_count": 222,
   "metadata": {},
   "outputs": [
    {
     "data": {
      "text/plain": [
       "(1357, 14)"
      ]
     },
     "execution_count": 222,
     "metadata": {},
     "output_type": "execute_result"
    }
   ],
   "source": [
    "dd.shape"
   ]
  },
  {
   "cell_type": "code",
   "execution_count": 223,
   "metadata": {},
   "outputs": [
    {
     "data": {
      "text/html": [
       "<div>\n",
       "<style>\n",
       "    .dataframe thead tr:only-child th {\n",
       "        text-align: right;\n",
       "    }\n",
       "\n",
       "    .dataframe thead th {\n",
       "        text-align: left;\n",
       "    }\n",
       "\n",
       "    .dataframe tbody tr th {\n",
       "        vertical-align: top;\n",
       "    }\n",
       "</style>\n",
       "<table border=\"1\" class=\"dataframe\">\n",
       "  <thead>\n",
       "    <tr style=\"text-align: right;\">\n",
       "      <th></th>\n",
       "      <th>rank</th>\n",
       "      <th>appid</th>\n",
       "      <th>name</th>\n",
       "      <th>ower_before</th>\n",
       "      <th>owner_before_std</th>\n",
       "      <th>owner_after</th>\n",
       "      <th>owner_after_std</th>\n",
       "      <th>sales</th>\n",
       "      <th>increase</th>\n",
       "      <th>price</th>\n",
       "      <th>discount_percentage</th>\n",
       "      <th>dicount_absolut</th>\n",
       "      <th>user_score_1</th>\n",
       "      <th>user_score_2</th>\n",
       "    </tr>\n",
       "  </thead>\n",
       "  <tbody>\n",
       "    <tr>\n",
       "      <th>31</th>\n",
       "      <td>32</td>\n",
       "      <td>203160</td>\n",
       "      <td>Tomb Raider</td>\n",
       "      <td>4104282</td>\n",
       "      <td>62315</td>\n",
       "      <td>4191120</td>\n",
       "      <td>63951</td>\n",
       "      <td>86838</td>\n",
       "      <td>2.12</td>\n",
       "      <td>1999</td>\n",
       "      <td>75.0</td>\n",
       "      <td>499</td>\n",
       "      <td>95</td>\n",
       "      <td>86.0</td>\n",
       "    </tr>\n",
       "  </tbody>\n",
       "</table>\n",
       "</div>"
      ],
      "text/plain": [
       "    rank   appid         name  ower_before  owner_before_std  owner_after  \\\n",
       "31    32  203160  Tomb Raider      4104282             62315      4191120   \n",
       "\n",
       "    owner_after_std  sales  increase  price  discount_percentage  \\\n",
       "31            63951  86838      2.12   1999                 75.0   \n",
       "\n",
       "    dicount_absolut  user_score_1  user_score_2  \n",
       "31              499            95          86.0  "
      ]
     },
     "execution_count": 223,
     "metadata": {},
     "output_type": "execute_result"
    }
   ],
   "source": [
    "dd[dd['name']=='Tomb Raider']"
   ]
  },
  {
   "cell_type": "code",
   "execution_count": 219,
   "metadata": {},
   "outputs": [
    {
     "data": {
      "text/plain": [
       "<div class=\"panel-title\">Steam Summer Sale </div>"
      ]
     },
     "execution_count": 219,
     "metadata": {},
     "output_type": "execute_result"
    }
   ],
   "source": [
    "bs.find('div', {'class':'panel-title'})"
   ]
  },
  {
   "cell_type": "code",
   "execution_count": null,
   "metadata": {
    "collapsed": true
   },
   "outputs": [],
   "source": []
  }
 ],
 "metadata": {
  "kernelspec": {
   "display_name": "Python 3",
   "language": "python",
   "name": "python3"
  },
  "language_info": {
   "codemirror_mode": {
    "name": "ipython",
    "version": 3
   },
   "file_extension": ".py",
   "mimetype": "text/x-python",
   "name": "python",
   "nbconvert_exporter": "python",
   "pygments_lexer": "ipython3",
   "version": "3.6.1"
  }
 },
 "nbformat": 4,
 "nbformat_minor": 2
}
